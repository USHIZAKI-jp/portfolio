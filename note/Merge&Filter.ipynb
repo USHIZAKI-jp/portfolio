{
  "nbformat": 4,
  "nbformat_minor": 0,
  "metadata": {
    "colab": {
      "provenance": []
    },
    "kernelspec": {
      "name": "python3",
      "display_name": "Python 3"
    },
    "language_info": {
      "name": "python"
    }
  },
  "cells": [
    {
      "cell_type": "code",
      "execution_count": null,
      "metadata": {
        "id": "uWrC50-8lY0d"
      },
      "outputs": [],
      "source": [
        "import sqlite3\n",
        "import pandas as pd\n",
        "from google.colab import files\n",
        "\n",
        "# 1) CSV を読み込む\n",
        "nba_df = pd.read_csv('/content/NBA_Stats.csv')\n",
        "mvp_df = pd.read_csv('/content/MVP_Stats.csv')\n",
        "\n",
        "# 2) メモリ上に SQLite を作成し、データを書き込む\n",
        "conn = sqlite3.connect(':memory:')\n",
        "nba_df.to_sql('nba_stats', conn, if_exists='replace', index=False)\n",
        "mvp_df.to_sql('mvp_stats', conn, if_exists='replace', index=False)\n",
        "\n",
        "# 3) LEFT JOIN で Share を結合し、MVP_Nominated を CASE で作成\n",
        "query = \"\"\"\n",
        "SELECT\n",
        "  n.*,\n",
        "  COALESCE(m.Share, 0) AS Share,\n",
        "  CASE\n",
        "    WHEN COALESCE(m.Share, 0) > 0 THEN 1\n",
        "    ELSE 0\n",
        "  END AS MVP_Nominated\n",
        "FROM nba_stats AS n\n",
        "LEFT JOIN mvp_stats AS m\n",
        "  ON n.Player = m.Player;\n",
        "\"\"\"\n",
        "merged_df = pd.read_sql_query(query, conn)\n",
        "\n",
        "\n",
        "# 5) CSV として出力し、ダウンロード\n",
        "merged_df.to_csv('NBA_Merged.csv', index=False)\n",
        "files.download('NBA_Merged.csv')"
      ]
    },
    {
      "cell_type": "code",
      "source": [
        "# 1) CSV を読み込む\n",
        "nba_df = pd.read_csv('/content/NBA_Merged.csv')\n",
        "\n",
        "# 2) メモリ上に SQLite を作成し、データを書き込む\n",
        "conn = sqlite3.connect(':memory:')\n",
        "merged_df.to_sql('nba_merged', conn, if_exists='replace', index=False)\n",
        "\n",
        "query = \"\"\"\n",
        "SELECT\n",
        "  Pos AS Position,\n",
        "  CASE WHEN Share > 0 THEN 1 ELSE 0 END AS MVP_Nominated,\n",
        "  ROUND(\"FG%\" * 100, 2)  AS FG_Pct,\n",
        "  ROUND(\"3P%\" * 100, 2)  AS \"3P_Pct\",\n",
        "  ROUND(\"2P%\" * 100, 2)  AS \"2P_Pct\",\n",
        "  ROUND(PTS,  2)  AS PTS,\n",
        "  ROUND(\"3P\", 2)  AS \"3P\",\n",
        "  ROUND(\"2P\", 2)  AS \"2P\",\n",
        "  ROUND(AST,  2)  AS AST,\n",
        "  ROUND(STL,  2)  AS STL,\n",
        "  ROUND(BLK,  2)  AS BLK,\n",
        "  ROUND(TRB,  2)  AS REB,\n",
        "  Player,\n",
        "  Season,\n",
        "  ROUND(Share * 100, 2)  AS Vote_Share_Pct,\n",
        "  ROUND(MP, 2)           AS MP_per_Game\n",
        "FROM nba_merged\n",
        "WHERE MP >= 10;\n",
        "\"\"\"\n",
        "merged_df = pd.read_sql_query(query, conn)\n",
        "\n",
        "conn.close()\n",
        "\n",
        "print(merged_df)\n",
        "\n",
        "merged_df.to_csv('nba_filtered.csv', index=False)\n",
        "files.download('nba_filtered.csv')"
      ],
      "metadata": {
        "id": "rhv9cm91lhYE"
      },
      "execution_count": null,
      "outputs": []
    }
  ]
}
